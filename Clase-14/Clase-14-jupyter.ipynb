{
 "cells": [
  {
   "cell_type": "markdown",
   "metadata": {},
   "source": [
    "# Gramáticas categoriales con rasgos"
   ]
  },
  {
   "cell_type": "markdown",
   "metadata": {},
   "source": [
    "## Requerimientos"
   ]
  },
  {
   "cell_type": "code",
   "execution_count": 2,
   "metadata": {},
   "outputs": [],
   "source": [
    "import nltk \n",
    "import re \n",
    "from nltk.ccg import lexicon, chart \n",
    "from nltk.ccg.chart import printCCGDerivation"
   ]
  },
  {
   "cell_type": "markdown",
   "metadata": {},
   "source": [
    "Las gramáticas categoriales están conformadas principalmente por un conjunto reducido de reglas y un léxico sumamente rico.\n",
    "Las reglas que utiliza OpenCCG, que es el parser categorial que vamos a ver son las siguientes:"
   ]
  },
  {
   "cell_type": "markdown",
   "metadata": {},
   "source": [
    "![reglas categoriales](reglascategorialesopenccg.png)"
   ]
  },
  {
   "cell_type": "markdown",
   "metadata": {},
   "source": [
    "Construir una gramática categorial consiste principalmente en elaborar un léxico lo suficientemente rico, ya que las gramáticas categoriales son fuertemente lexicalistas. En ellas, la categoría a la que pertenece cada entrada léxica codifica sus posibilidades combinatorias."
   ]
  },
  {
   "cell_type": "markdown",
   "metadata": {},
   "source": [
    "## Gramática categorial combinatoria con rasgos en NLTK"
   ]
  },
  {
   "cell_type": "code",
   "execution_count": 3,
   "metadata": {},
   "outputs": [],
   "source": [
    "#Combinatory Categorial Grammar with features\n",
    "# Esta hay que revisarla y ver cómo se corrige para que funcione\n",
    "\n",
    "def combinatory_parser(sentence, grammar):   \n",
    "    sentence = sentence.lower()                                     # convierte a minúscula\n",
    "    if sentence.endswith('.'):                                      # si la oración termina con un punto\n",
    "        sent = re.sub('\\.',' ',sentence)                            # se lo quita\n",
    "    else:                                                           # si no\n",
    "        sent = sentence                                             # la toma como está\n",
    "    sent = sent.split()\n",
    "    codigogram = nltk.data.load(grammar, cache=False)              # carga la gramática a nltk\n",
    "    lex = lexicon.fromstring(codigogram)\n",
    "    print(lex)\n",
    "    parser = chart.CCGChartParser(lex, chart.DefaultRuleSet)\n",
    "    parses = list(parser.parse(sent))\n",
    "    quantparses = len(parses)\n",
    "    print(str(quantparses) + \" parses\")\n",
    "    print(sent)\n",
    "    parseslist = 0\n",
    "    def showccgparses(parseslist1, quantparses1):\n",
    "        if parseslist1 < quantparses1:\n",
    "            printCCGDerivation(parses[parseslist1])\n",
    "            parseslist2 = parseslist1 + 1\n",
    "            showccgparses(parseslist2, quantparses1)\n",
    "        elif parseslist == quantparses: \n",
    "            printCCGDerivation(parses[parseslist])\n",
    "    if quantparses == 0:\n",
    "        print('No se encontraron estructuras para imprimir')\n",
    "    elif quantparses > 0:\n",
    "        showccgparses(parseslist, quantparses)"
   ]
  },
  {
   "cell_type": "code",
   "execution_count": null,
   "metadata": {},
   "outputs": [],
   "source": [
    "grammar = 'gramaticas/FCG1.txt'\n",
    "oracion5 = 'julia fuma'\n",
    "combinatory_parser(oracion5, grammar)"
   ]
  },
  {
   "cell_type": "code",
   "execution_count": null,
   "metadata": {},
   "outputs": [],
   "source": [
    "grammar = 'gramaticas/FCG2.txt'\n",
    "oracion6 = 'ella fuma'\n",
    "#oracion6 = 'la persona fuma'\n",
    "#oracion6 = 'la persona fuma el cigarrillo' \n",
    "#oracion6 = 'la plaza fuma' # Pregunta a estudiantes: ¿por qué da agramatical?\n",
    "#oracion6 = 'la persona fuma y yo hablo'\n",
    "combinatory_parser(oracion6, grammar)"
   ]
  },
  {
   "cell_type": "markdown",
   "metadata": {},
   "source": [
    "## Gramática categorial con anotación semántica"
   ]
  },
  {
   "cell_type": "code",
   "execution_count": 4,
   "metadata": {},
   "outputs": [],
   "source": [
    "def ccgsemparse(sentence, grammar):\n",
    "    sentence = sentence.lower()                                     # convierte a minúscula\n",
    "    if sentence.endswith('.'):                                      # si la oración termina con un punto\n",
    "        sent = re.sub('\\.',' ',sentence)                            # se lo quita\n",
    "    else:                                                           # si no\n",
    "        sent = sentence                                             # la toma como está\n",
    "    sent = sent.split()   \n",
    "    codigogram = nltk.data.load(grammar, cache=False)              # carga la gramática a nltk\n",
    "    print(codigogram)\n",
    "    print(type(codigogram))\n",
    "    lex = lexicon.fromstring(codigogram, True)\n",
    "    print(lex)\n",
    "    parser = chart.CCGChartParser(lex, chart.DefaultRuleSet)\n",
    "    parses = list(parser.parse(sent))\n",
    "    quantparses = len(parses)\n",
    "    print(str(quantparses) + \" parses\")\n",
    "    print(sent)\n",
    "    parseslist = 0\n",
    "    def showccgparses(parseslist1, quantparses1):\n",
    "        if parseslist1 < quantparses1:\n",
    "            printCCGDerivation(parses[parseslist1])\n",
    "            parseslist2 = parseslist1 + 1\n",
    "            showccgparses(parseslist2, quantparses1)\n",
    "        elif parseslist == quantparses: \n",
    "            printCCGDerivation(parses[parseslist])\n",
    "    if quantparses == 0:\n",
    "        print('No se encontraron estructuras para imprimir')\n",
    "    elif quantparses > 0:\n",
    "        showccgparses(parseslist, quantparses)"
   ]
  },
  {
   "cell_type": "code",
   "execution_count": null,
   "metadata": {},
   "outputs": [],
   "source": [
    "oracion6= \"pablo fuma\"\n",
    "#oracion6 = 'juan dio fernando a romi'\n",
    "grammar3 = 'gramaticas/SCG1.txt'\n",
    "ccgsemparse(oracion6, grammar3)"
   ]
  },
  {
   "cell_type": "code",
   "execution_count": null,
   "metadata": {},
   "outputs": [],
   "source": [
    "oracion6 = 'I give them money'\n",
    "grammar3 = 'gramaticas/SCG2.txt'\n",
    "ccgsemparse(oracion6, grammar3)"
   ]
  },
  {
   "cell_type": "markdown",
   "metadata": {},
   "source": [
    "## Para TP4"
   ]
  },
  {
   "cell_type": "code",
   "execution_count": 7,
   "metadata": {},
   "outputs": [
    {
     "name": "stdout",
     "output_type": "stream",
     "text": [
      "cansada => PART\n",
      "cansado => PART\n",
      "corre => (S\\NP)\n",
      "el => (NP/N)\n",
      "está => ((S\\NP)/PART)\n",
      "la => (NP/N)\n",
      "leona => N\n",
      "león => N\n",
      "3 parses\n",
      "['el', 'leona', 'está', 'cansado']\n",
      "   el    leona      está       cansado\n",
      " (NP/N)    N    ((S\\NP)/PART)   PART\n",
      "--------------->\n",
      "      NP\n",
      "               ------------------------>\n",
      "                        (S\\NP)\n",
      "---------------------------------------<\n",
      "                   S\n",
      "   el    leona      está       cansado\n",
      " (NP/N)    N    ((S\\NP)/PART)   PART\n",
      "--------------->\n",
      "      NP\n",
      "--------------->T\n",
      "  (S/(S\\NP))\n",
      "               ------------------------>\n",
      "                        (S\\NP)\n",
      "--------------------------------------->\n",
      "                   S\n",
      "   el    leona      está       cansado\n",
      " (NP/N)    N    ((S\\NP)/PART)   PART\n",
      "--------------->\n",
      "      NP\n",
      "--------------->T\n",
      "  (S/(S\\NP))\n",
      "------------------------------>B\n",
      "           (S/PART)\n",
      "--------------------------------------->\n",
      "                   S\n"
     ]
    }
   ],
   "source": [
    "grammar = 'gramaticas/tp4.txt'\n",
    "#oraciontp = 'El león corre'\n",
    "#oraciontp = 'La leona corre'\n",
    "#oraciontp = 'El leona corre'\n",
    "#oraciontp = 'La león corre'\n",
    "#oraciontp = 'El león está cansado'\n",
    "#oraciontp = 'El león está cansada'\n",
    "#oraciontp = 'El leona está cansado'\n",
    "oraciontp = 'El leona está cansado'\n",
    "#oraciontp = 'La león está cansado'\n",
    "#oraciontp = 'La león está cansada'\n",
    "#oraciontp = 'La leona está cansado'\n",
    "#oraciontp = 'La leona está cansada'\n",
    "#oraciontp = 'El león come la carne'\n",
    "#oraciontp = 'La leona come la carne'\n",
    "#oraciontp = 'La carne come el león'\n",
    "#oraciontp= 'La carne como la leona'\n",
    "combinatory_parser(oraciontp, grammar)"
   ]
  },
  {
   "cell_type": "markdown",
   "metadata": {},
   "source": [
    "{% include additional_content.html %}\n",
    "\n",
    "{% include copybutton.html %}"
   ]
  }
 ],
 "metadata": {
  "kernelspec": {
   "display_name": "Python 3 (ipykernel)",
   "language": "python",
   "name": "python3"
  },
  "language_info": {
   "codemirror_mode": {
    "name": "ipython",
    "version": 3
   },
   "file_extension": ".py",
   "mimetype": "text/x-python",
   "name": "python",
   "nbconvert_exporter": "python",
   "pygments_lexer": "ipython3",
   "version": "3.8.10"
  }
 },
 "nbformat": 4,
 "nbformat_minor": 2
}
