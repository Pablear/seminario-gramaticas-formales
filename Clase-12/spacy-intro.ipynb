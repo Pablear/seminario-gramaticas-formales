{
 "cells": [
  {
   "cell_type": "markdown",
   "metadata": {},
   "source": [
    "# Otras aplicaciones de spaCy"
   ]
  },
  {
   "cell_type": "markdown",
   "metadata": {},
   "source": [
    "- Requerimientos: spaCy\n",
    "- [Documentación](https://spacy.io/usage/linguistic-features)\n",
    "- [Demo de _parser_ de dependencias](https://explosion.ai/demos/displacy)"
   ]
  },
  {
   "cell_type": "code",
   "execution_count": null,
   "metadata": {},
   "outputs": [],
   "source": [
    "import spacy"
   ]
  },
  {
   "cell_type": "code",
   "execution_count": null,
   "metadata": {},
   "outputs": [],
   "source": [
    "# Para ver los idiomas y modelos disponibles por idioma: https://spacy.io/usage/models\n",
    "# Se puede entrar a cada modelo y ver en qué tareas y corpus fue entrenado\n",
    "\n",
    "#!python -m spacy download en_core_web_md\n",
    "#!python -m spacy download es_core_news_sm\n",
    "#!python -m spacy download es_core_news_md"
   ]
  },
  {
   "cell_type": "code",
   "execution_count": null,
   "metadata": {},
   "outputs": [],
   "source": [
    "# Para ver los idiomas que tenemos descargados\n",
    "# Observar qué sucede con la versión de la librería y la de los modelos\n",
    "\n",
    "spacy.cli.validate()"
   ]
  },
  {
   "cell_type": "code",
   "execution_count": null,
   "metadata": {},
   "outputs": [],
   "source": [
    "nlp_sm = spacy.load(\"es_core_news_sm\")"
   ]
  },
  {
   "cell_type": "code",
   "execution_count": null,
   "metadata": {},
   "outputs": [],
   "source": [
    "# Me muestra qué tiene el pipeline del modelo cargado\n",
    "nlp_sm.pipe_names"
   ]
  },
  {
   "cell_type": "code",
   "execution_count": null,
   "metadata": {},
   "outputs": [],
   "source": [
    "# Me muestra a qué objeto en Python se asocian los nombres anteriores\n",
    "nlp_sm.pipeline"
   ]
  },
  {
   "cell_type": "code",
   "execution_count": null,
   "metadata": {},
   "outputs": [],
   "source": [
    "# Me devuelve un diccionario cuyas keys son los nombres de los componentes\n",
    "# del pipe y sus values, las etiquetas que puede asignar ese componente\n",
    "nlp_sm.pipe_labels['parser']"
   ]
  },
  {
   "cell_type": "code",
   "execution_count": null,
   "metadata": {},
   "outputs": [],
   "source": [
    "sent = \"Probemos el modelo.\"\n",
    "doc_sm = nlp_sm(sent)\n",
    "doc_sm"
   ]
  },
  {
   "cell_type": "code",
   "execution_count": null,
   "metadata": {},
   "outputs": [],
   "source": [
    "# ¿Qué tipo de objeto es doc_sm?\n",
    "#type(doc_sm)"
   ]
  },
  {
   "cell_type": "code",
   "execution_count": null,
   "metadata": {},
   "outputs": [],
   "source": [
    "#for s in sent:\n",
    "#    print(s)"
   ]
  },
  {
   "cell_type": "code",
   "execution_count": null,
   "metadata": {},
   "outputs": [],
   "source": [
    "#for s in doc_sm:\n",
    "#    print(s)"
   ]
  },
  {
   "cell_type": "code",
   "execution_count": null,
   "metadata": {},
   "outputs": [],
   "source": [
    "print('{0:10}{1:8}{2:10}{3:8}{4:20}'.format('TOKEN','DEP TAG','NÚCLEO','POS TAG','DEPENDENDIENTES'))\n",
    "for token in doc_sm:\n",
    "    print('{0:10}{1:8}{2:10}{3:8}{4:20}'.format(\n",
    "        token.text,\n",
    "        token.dep_,\n",
    "        token.head.text,\n",
    "        token.head.pos_,\n",
    "        str([child for child in token.children])\n",
    "    ))"
   ]
  },
  {
   "cell_type": "code",
   "execution_count": null,
   "metadata": {},
   "outputs": [],
   "source": [
    "spacy.displacy.render(doc_sm, style=\"dep\")"
   ]
  },
  {
   "cell_type": "code",
   "execution_count": null,
   "metadata": {},
   "outputs": [],
   "source": [
    "# Con el parámetro disable puedo desabilitar los componentes del modelo\n",
    "# que no necesito\n",
    "nlp_sm_smaller = spacy.load('es_core_news_sm', disable=['parser'])\n",
    "nlp_sm_smaller.pipe_names"
   ]
  },
  {
   "cell_type": "markdown",
   "metadata": {},
   "source": [
    "En [esta página](https://spacy.io/usage/processing-pipelines) pueden encontrar la documentación de spaCy sobre _pipelines_."
   ]
  },
  {
   "cell_type": "code",
   "execution_count": null,
   "metadata": {},
   "outputs": [],
   "source": [
    "# Muestra de qué tamaño son los vectores asignados al vocabulario del modelo\n",
    "nlp_sm.vocab.vectors.shape"
   ]
  },
  {
   "cell_type": "code",
   "execution_count": null,
   "metadata": {},
   "outputs": [],
   "source": [
    "nlp = spacy.load(\"es_core_news_md\")\n",
    "nlp.pipe_names"
   ]
  },
  {
   "cell_type": "code",
   "execution_count": null,
   "metadata": {},
   "outputs": [],
   "source": [
    "nlp.vocab.vectors.shape"
   ]
  },
  {
   "cell_type": "code",
   "execution_count": null,
   "metadata": {},
   "outputs": [],
   "source": [
    "doc = nlp(\"Probemos el modelo.\")\n",
    "\n",
    "for token in doc:\n",
    "    print('{0:10}{1:20}'.format(token.text,str(token.vector[:5])))"
   ]
  },
  {
   "cell_type": "code",
   "execution_count": null,
   "metadata": {},
   "outputs": [],
   "source": [
    "#nlp('modelo').vector"
   ]
  },
  {
   "cell_type": "code",
   "execution_count": null,
   "metadata": {},
   "outputs": [],
   "source": [
    "spacy.displacy.render(doc, style=\"dep\")"
   ]
  },
  {
   "cell_type": "code",
   "execution_count": null,
   "metadata": {},
   "outputs": [],
   "source": [
    "doc1 = nlp(\"Probemos el modelo\")\n",
    "doc2 = nlp(\"Ah la flauta\")"
   ]
  },
  {
   "cell_type": "code",
   "execution_count": null,
   "metadata": {},
   "outputs": [],
   "source": [
    "print(doc1, \"<->\", doc2, ':', doc1.similarity(doc2))"
   ]
  },
  {
   "cell_type": "code",
   "execution_count": null,
   "metadata": {},
   "outputs": [],
   "source": [
    "doc1_vec = doc1.vector\n",
    "doc2_vec = doc2.vector"
   ]
  },
  {
   "cell_type": "code",
   "execution_count": null,
   "metadata": {},
   "outputs": [],
   "source": [
    "type(doc1_vec)"
   ]
  },
  {
   "cell_type": "code",
   "execution_count": null,
   "metadata": {},
   "outputs": [],
   "source": [
    "len(doc1_vec)"
   ]
  },
  {
   "cell_type": "code",
   "execution_count": null,
   "metadata": {},
   "outputs": [],
   "source": [
    "print('{0:10}{1:8}{2:10}{3:8}{4:20}'.format('TOKEN','DEP TAG','NÚCLEO','POS TAG','DEPENDENDIENTES'))\n",
    "for token in doc:\n",
    "    print('{0:10}{1:8}{2:10}{3:8}{4:20}'.format(\n",
    "        token.text,\n",
    "        token.dep_,\n",
    "        token.head.text,\n",
    "        token.head.pos_,\n",
    "        str([child for child in token.children])\n",
    "    ))"
   ]
  },
  {
   "cell_type": "markdown",
   "metadata": {},
   "source": [
    "{% include additional_content.html %}\n",
    "\n",
    "{% include copybutton.html %}"
   ]
  }
 ],
 "metadata": {
  "kernelspec": {
   "display_name": "Python 3",
   "language": "python",
   "name": "python3"
  },
  "language_info": {
   "codemirror_mode": {
    "name": "ipython",
    "version": 3
   },
   "file_extension": ".py",
   "mimetype": "text/x-python",
   "name": "python",
   "nbconvert_exporter": "python",
   "pygments_lexer": "ipython3",
   "version": "3.8.10"
  }
 },
 "nbformat": 4,
 "nbformat_minor": 4
}
