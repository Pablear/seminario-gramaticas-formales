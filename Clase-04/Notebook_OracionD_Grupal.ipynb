{
 "cells": [
  {
   "cell_type": "code",
   "execution_count": 1,
   "id": "fc24ede3",
   "metadata": {},
   "outputs": [],
   "source": [
    "import nltk\n",
    "import re"
   ]
  },
  {
   "cell_type": "code",
   "execution_count": 2,
   "id": "22b55872",
   "metadata": {},
   "outputs": [],
   "source": [
    "# Shift Reduce Parser\n",
    "\n",
    "def sr_parser(oracion, gramatica):                   # Definimos una función llamada sr_parser con dos argumentos.\n",
    "    oracion = oracion.lower()\n",
    "    if oracion.endswith('.'):\n",
    "        oracion = re.sub('\\.',' ',oracion)\n",
    "    else:\n",
    "        oracion = oracion\n",
    "    lista_palabras = oracion.split()\n",
    "    gramatica = nltk.data.load(gramatica, cache=False)\n",
    "    sr_parser = nltk.ShiftReduceParser(gramatica)    # Instanciamos otra clase de parser\n",
    "    for arbol in sr_parser.parse(lista_palabras):\n",
    "        print(\"- Este es el árbol resultante: \", arbol)\n",
    "        #return(arbol)                                # Hacemos un retorno para la función, es decir que la función aquí se va a terminar, lo que nos cortara el loop, pero nos dibujará el árbol"
   ]
  },
  {
   "cell_type": "code",
   "execution_count": 3,
   "id": "0129cb24",
   "metadata": {},
   "outputs": [
    {
     "name": "stdout",
     "output_type": "stream",
     "text": [
      "Warning: SV -> V SN SP will never be used\n",
      "- Este es el árbol resultante:  (S\n",
      "  (SN (D estos) (NCanim amigos))\n",
      "  (SV\n",
      "    (V manipulan)\n",
      "    (SN\n",
      "      (NCanim jugadores)\n",
      "      (SP (P con) (SN (Pos sus) (NCinanim piezas))))))\n"
     ]
    }
   ],
   "source": [
    "#print('Escribí una oración:')\n",
    "#oracion2 = input()\n",
    "oracion_d = \"estos amigos manipulan jugadores con sus piezas\"\n",
    "gramatica = 'gramaticas/CFG_OracionD_grupal.cfg'\n",
    "sr_parser(oracion_d, gramatica)   \n",
    "\n",
    "# Oraciones que acepta la gramática: \n",
    "# estos amigos manipulan jugadores con sus piezas\n"
   ]
  },
  {
   "cell_type": "code",
   "execution_count": null,
   "id": "86a78b62",
   "metadata": {},
   "outputs": [],
   "source": [
    "nltk.app.srparser()"
   ]
  },
  {
   "cell_type": "code",
   "execution_count": null,
   "id": "86ec6fa7",
   "metadata": {},
   "outputs": [],
   "source": []
  }
 ],
 "metadata": {
  "kernelspec": {
   "display_name": "Python 3 (ipykernel)",
   "language": "python",
   "name": "python3"
  },
  "language_info": {
   "codemirror_mode": {
    "name": "ipython",
    "version": 3
   },
   "file_extension": ".py",
   "mimetype": "text/x-python",
   "name": "python",
   "nbconvert_exporter": "python",
   "pygments_lexer": "ipython3",
   "version": "3.8.10"
  }
 },
 "nbformat": 4,
 "nbformat_minor": 5
}
