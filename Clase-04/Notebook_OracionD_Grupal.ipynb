{
 "cells": [
  {
   "cell_type": "code",
   "execution_count": 2,
   "id": "fc24ede3",
   "metadata": {},
   "outputs": [],
   "source": [
    "import nltk\n",
    "import re"
   ]
  },
  {
   "cell_type": "code",
   "execution_count": 3,
   "id": "22b55872",
   "metadata": {},
   "outputs": [],
   "source": [
    "# Shift Reduce Parser\n",
    "\n",
    "def sr_parser(oracion, gramatica):                   # Definimos una función llamada sr_parser con dos argumentos.\n",
    "    oracion = oracion.lower()\n",
    "    if oracion.endswith('.'):\n",
    "        oracion = re.sub('\\.',' ',oracion)\n",
    "    else:\n",
    "        oracion = oracion\n",
    "    lista_palabras = oracion.split()\n",
    "    gramatica = nltk.data.load(gramatica, cache=False)\n",
    "    sr_parser = nltk.ShiftReduceParser(gramatica)    # Instanciamos otra clase de parser\n",
    "    for arbol in sr_parser.parse(lista_palabras):\n",
    "        print(\"- Este es el árbol resultante: \", arbol)\n",
    "        #return(arbol)                                # Hacemos un retorno para la función, es decir que la función aquí se va a terminar, lo que nos cortara el loop, pero nos dibujará el árbol"
   ]
  },
  {
   "cell_type": "code",
   "execution_count": 6,
   "id": "0129cb24",
   "metadata": {},
   "outputs": [
    {
     "name": "stdout",
     "output_type": "stream",
     "text": [
      "Escribí una oración:\n",
      "Estos amigos manipulan jugadores con sus piezas\n"
     ]
    }
   ],
   "source": [
    "print('Escribí una oración:')\n",
    "oracion2 = input()\n",
    "gramatica = 'gramaticas/CFG_OracionD_grupal.cfg'\n",
    "sr_parser(oracion2, gramatica)   \n",
    "\n",
    "# Oraciones que acepta la gramática: \n",
    "# estos amigos manipulan jugadores con sus piezas\n"
   ]
  },
  {
   "cell_type": "code",
   "execution_count": null,
   "id": "86a78b62",
   "metadata": {},
   "outputs": [
    {
     "name": "stdout",
     "output_type": "stream",
     "text": [
      "Warning: VP -> V NP PP will never be used\n",
      "[('dog',)]\n",
      "[('statue',)]\n",
      "[('park',)]\n",
      "[('dog',), ('statue',)]\n",
      "[('in',)]\n",
      "[('with',)]\n",
      "[('the',)]\n",
      "[('a',)]\n",
      "[(V, NP, PP)]\n",
      "[(V, NP)]\n",
      "[(VP, PP)]\n",
      "[(V, NP, PP), (V, NP)]\n",
      "[(Det, N)]\n",
      "[(NP, PP)]\n",
      "S [(NP, VP)]\n",
      "NP [(Det, N), (NP, PP)]\n",
      "VP [(VP, PP), (V, NP, PP), (V, NP)]\n",
      "PP [(P, NP)]\n",
      "NP [('I',)]\n",
      "Det [('the',), ('a',)]\n",
      "N [('man',)]\n",
      "V [('saw',)]\n",
      "P [('in',), ('with',)]\n",
      "N [('park',), ('dog',), ('statue',)]\n",
      "Det [('my',)]\n",
      "[('amigos',)]\n",
      "[('jugadores',)]\n",
      "[(Pos, NCinanim)]\n",
      "[(N, SP)]\n",
      "[(D, NCanim)]\n",
      "[(Pos, NCinanim), (N, SP)]\n",
      "S [(SN, SV)]\n",
      "SN [(D, NCanim), (Pos, NCinanim), (N, SP)]\n",
      "SV [(V, SN, SP)]\n",
      "SP [(P, SN)]\n",
      "D [('estos',)]\n",
      "Pos [('sus',)]\n",
      "NCanim [('amigos',), ('jugadores',)]\n",
      "P [('con',)]\n",
      "NCinanim [('piezas',)]\n",
      "V [('manipulan',)]\n",
      "[('amigos',)]\n",
      "[('jugadores',)]\n",
      "[(Pos, NCinanim)]\n",
      "[(NCanim, SP)]\n",
      "[(D, NCanim)]\n",
      "[(Pos, NCinanim), (NCanim, SP)]\n",
      "S [(SN, SV)]\n",
      "SN [(D, NCanim), (Pos, NCinanim), (NCanim, SP)]\n",
      "SV [(V, SN, SP)]\n",
      "SP [(P, SN)]\n",
      "D [('estos',)]\n",
      "Pos [('sus',)]\n",
      "NCanim [('amigos',), ('jugadores',)]\n",
      "P [('con',)]\n",
      "NCinanim [('piezas',)]\n",
      "V [('manipulan',)]\n"
     ]
    }
   ],
   "source": [
    "nltk.app.srparser()"
   ]
  },
  {
   "cell_type": "code",
   "execution_count": null,
   "id": "86ec6fa7",
   "metadata": {},
   "outputs": [],
   "source": []
  }
 ],
 "metadata": {
  "kernelspec": {
   "display_name": "Python 3 (ipykernel)",
   "language": "python",
   "name": "python3"
  },
  "language_info": {
   "codemirror_mode": {
    "name": "ipython",
    "version": 3
   },
   "file_extension": ".py",
   "mimetype": "text/x-python",
   "name": "python",
   "nbconvert_exporter": "python",
   "pygments_lexer": "ipython3",
   "version": "3.8.10"
  }
 },
 "nbformat": 4,
 "nbformat_minor": 5
}
