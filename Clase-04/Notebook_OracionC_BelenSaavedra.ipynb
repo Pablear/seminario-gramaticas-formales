{
 "cells": [
  {
   "cell_type": "code",
   "execution_count": 4,
   "id": "878df101",
   "metadata": {},
   "outputs": [],
   "source": [
    "import nltk\n",
    "import re"
   ]
  },
  {
   "cell_type": "code",
   "execution_count": 5,
   "id": "0162d7db",
   "metadata": {},
   "outputs": [],
   "source": [
    "# Shift Reduce Parser\n",
    "\n",
    "def sr_parser(oracion, gramatica):                   # Definimos una función llamada sr_parser con dos argumentos.\n",
    "    oracion = oracion.lower()\n",
    "    if oracion.endswith('.'):\n",
    "        oracion = re.sub('\\.',' ',oracion)\n",
    "    else:\n",
    "        oracion = oracion\n",
    "    lista_palabras = oracion.split()\n",
    "    gramatica = nltk.data.load(gramatica, cache=False)\n",
    "    sr_parser = nltk.ShiftReduceParser(gramatica)    # Instanciamos otra clase de parser\n",
    "    for arbol in sr_parser.parse(lista_palabras):\n",
    "        print(\"- Este es el árbol resultante: \", arbol.draw())\n",
    "        #return(arbol)                                # Hacemos un retorno para la función, es decir que la función aquí se va a terminar, lo que nos cortara el loop, pero nos dibujará el árbol"
   ]
  },
  {
   "cell_type": "code",
   "execution_count": null,
   "id": "91e6ebac",
   "metadata": {},
   "outputs": [
    {
     "name": "stdout",
     "output_type": "stream",
     "text": [
      "Escribí una oración:\n"
     ]
    }
   ],
   "source": [
    "print('Escribí una oración:')\n",
    "oracion2 = input()\n",
    "gramatica = 'gramaticas/CFG_OracionC_BelenSaavedra.cfg'\n",
    "sr_parser(oracion2, gramatica)   \n"
   ]
  },
  {
   "cell_type": "markdown",
   "id": "27512769",
   "metadata": {},
   "source": [
    "Oración C: Disparan armas que son falsas\n",
    "\n",
    "Durante el parseo de la oración se presentó una falla esperable. La primera versión de la gramática era la siguiente: \n",
    "\n",
    "Gramática:\n",
    "\n",
    "S -> SV\n",
    "SV -> V SN\n",
    "SP -> Pron S\n",
    "SV -> V Adj\n",
    "SN -> N SP\n",
    "Pron -> 'que'\n",
    "V -> 'son' | 'disparan'\n",
    "Adj -> 'falsas' \n",
    "N -> 'armas'\n",
    "\n",
    "Lo que permitía una sobregeneración inadecuada. \n",
    "\n",
    "\n",
    "Corregimos el fallo restringiendo la gramática a este formato final:\n",
    "\n",
    "S -> SV\n",
    "SV -> V SN\n",
    "SP -> Pron SVCop\n",
    "SVCop -> VCop Adj\n",
    "SN -> N SP\n",
    "Pron -> 'que'\n",
    "V -> 'disparan'\n",
    "Adj -> 'falsas' \n",
    "N -> 'armas'\n",
    "VCop -> 'son'\n",
    "\n",
    "Disclaimer: Una duda que nos surgió durante la realización de la gramática es si es posible que un nodo raíz cuente con un solo elemento no terminal de reescritura. Debido a que se trata de una oración con sujeto desinencial, consideramos que una estructura posible sería:\n",
    "partir de una S -> SN SV  en la que en nodo SN deriva en un nodo terminal vacío. Sin embargo sabemos que por limitación de este tipo de gramáticas esto no es posible. \n"
   ]
  }
 ],
 "metadata": {
  "kernelspec": {
   "display_name": "Python 3 (ipykernel)",
   "language": "python",
   "name": "python3"
  },
  "language_info": {
   "codemirror_mode": {
    "name": "ipython",
    "version": 3
   },
   "file_extension": ".py",
   "mimetype": "text/x-python",
   "name": "python",
   "nbconvert_exporter": "python",
   "pygments_lexer": "ipython3",
   "version": "3.8.10"
  }
 },
 "nbformat": 4,
 "nbformat_minor": 5
}
