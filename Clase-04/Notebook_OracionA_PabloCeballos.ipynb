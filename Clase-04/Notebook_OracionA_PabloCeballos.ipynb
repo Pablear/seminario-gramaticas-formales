{
 "cells": [
  {
   "cell_type": "code",
   "execution_count": 1,
   "id": "f66821b7",
   "metadata": {},
   "outputs": [],
   "source": [
    "import nltk\n",
    "import re\n",
    "# Recursive Descent Parser\n",
    "\n",
    "def rd_parser(oracion, gramatica):                  # Definimos una función llamada rd_parser con dos argumentos.\n",
    "    oracion = oracion.lower()                       # Convertimos a minúscula la oración utilizando una función nativa de la cadena de caracteres: lower(). \n",
    "        \n",
    "    if oracion.endswith('.'):                       # Otra función nativa de las strings nos ayuda a chequear si la cadena termina en x argumento.\n",
    "        oracion = re.sub('\\.',' ',oracion)          # En este caso, si la oración termina con un punto, se lo quita utilizando la librería de expresiones regulares \"re\".\n",
    "    else:                                           # Si no termina con un punto, \n",
    "        oracion = oracion                           # toma la oración como estaba originalmente.\n",
    "    lista_palabras = oracion.split()              # Dividimos la oración en palabras tomando como separador el espacio en blanco  con otra función nativa de las strings: split.\n",
    "    print(\"- Esta es la lista de palabras resultante: \", lista_palabras) # Split nos devuelve una lista (ordenada) de strings.\n",
    "      \n",
    "    gramatica = nltk.data.load(gramatica, cache=False)           # Usamos la función de la sub librería \"data\" que nos permite cargar una gramática para que pueda ser usada luego por el parser.    \n",
    "    rd_parser = nltk.RecursiveDescentParser(gramatica) # Instanciamos la clase del parser que nos da NLTK pasandole un argumento obligatorio: la gramática.\n",
    "    for arbol in rd_parser.parse(lista_palabras):    # Una vez que instanciamos la clase, podemos usar sus funciones mientras le pasemos los argumentos requeridos. En este caso, usamos la función \"parser\" a la que le pasaremos nuestra lista de palabras, y la función nos devolverá cada árbol posible en mi gramática para esa oración.\n",
    "        print(\"- Este es el árbol resultante: \", arbol.draw()) # Imprimimos cada árbol en la consola."
   ]
  },
  {
   "cell_type": "code",
   "execution_count": 2,
   "id": "63ee6ef4",
   "metadata": {},
   "outputs": [
    {
     "name": "stdout",
     "output_type": "stream",
     "text": [
      "- Esta es la lista de palabras resultante:  ['gurgeh', 'y', 'yay', 'juegan', 'juegos', 'violentos']\n",
      "- Este es el árbol resultante:  None\n"
     ]
    }
   ],
   "source": [
    "#Oración a: Gurgeh y Yay juegan juegos violentos.\n",
    "#print('Escribí una oración:')                          # Para que me pida que escriba una oración\n",
    "#oracion0 = input()                                     # Para que me abra un campo en el que escriba la oración\n",
    "oracion_a= \"Gurgeh y Yay juegan juegos violentos.\"\n",
    "gramatica1 = 'gramaticas/CFG_OracionA_PabloCeballos.cfg'                       # Indicamos el path a nuestra gramatica\n",
    "rd_parser(oracion_a, gramatica1)                         # Llamamos a la función que creamos con los dos argumentos que establecimos como obligatorios."
   ]
  },
  {
   "cell_type": "markdown",
   "id": "7f2452ec",
   "metadata": {},
   "source": [
    "# Nota\n",
    "Una interpretación posible tomaría a “violentos” como modificador del SNCoord pero al ser un constituyente discontinuo esta estructura no puede ser modelada por una CFG"
   ]
  }
 ],
 "metadata": {
  "kernelspec": {
   "display_name": "Python 3 (ipykernel)",
   "language": "python",
   "name": "python3"
  },
  "language_info": {
   "codemirror_mode": {
    "name": "ipython",
    "version": 3
   },
   "file_extension": ".py",
   "mimetype": "text/x-python",
   "name": "python",
   "nbconvert_exporter": "python",
   "pygments_lexer": "ipython3",
   "version": "3.8.10"
  }
 },
 "nbformat": 4,
 "nbformat_minor": 5
}
