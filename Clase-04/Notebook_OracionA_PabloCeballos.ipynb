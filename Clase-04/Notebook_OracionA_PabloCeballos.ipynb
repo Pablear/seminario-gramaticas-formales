{
 "cells": [
  {
   "cell_type": "code",
   "execution_count": 1,
   "id": "f66821b7",
   "metadata": {},
   "outputs": [],
   "source": [
    "import nltk\n",
    "import re\n",
    "# Recursive Descent Parser\n",
    "\n",
    "def rd_parser(oracion, gramatica):                  # Definimos una función llamada rd_parser con dos argumentos.\n",
    "    oracion = oracion.lower()                       # Convertimos a minúscula la oración utilizando una función nativa de la cadena de caracteres: lower(). \n",
    "        \n",
    "    if oracion.endswith('.'):                       # Otra función nativa de las strings nos ayuda a chequear si la cadena termina en x argumento.\n",
    "        oracion = re.sub('\\.',' ',oracion)          # En este caso, si la oración termina con un punto, se lo quita utilizando la librería de expresiones regulares \"re\".\n",
    "    else:                                           # Si no termina con un punto, \n",
    "        oracion = oracion                           # toma la oración como estaba originalmente.\n",
    "    lista_palabras = oracion.split()              # Dividimos la oración en palabras tomando como separador el espacio en blanco  con otra función nativa de las strings: split.\n",
    "    print(\"- Esta es la lista de palabras resultante: \", lista_palabras) # Split nos devuelve una lista (ordenada) de strings.\n",
    "      \n",
    "    gramatica = nltk.data.load(gramatica, cache=False)           # Usamos la función de la sub librería \"data\" que nos permite cargar una gramática para que pueda ser usada luego por el parser.    \n",
    "    rd_parser = nltk.RecursiveDescentParser(gramatica) # Instanciamos la clase del parser que nos da NLTK pasandole un argumento obligatorio: la gramática.\n",
    "    for arbol in rd_parser.parse(lista_palabras):    # Una vez que instanciamos la clase, podemos usar sus funciones mientras le pasemos los argumentos requeridos. En este caso, usamos la función \"parser\" a la que le pasaremos nuestra lista de palabras, y la función nos devolverá cada árbol posible en mi gramática para esa oración.\n",
    "        print(\"- Este es el árbol resultante: \", arbol.draw()) # Imprimimos cada árbol en la consola."
   ]
  },
  {
   "cell_type": "code",
   "execution_count": 2,
   "id": "63ee6ef4",
   "metadata": {},
   "outputs": [
    {
     "name": "stdout",
     "output_type": "stream",
     "text": [
      "Escribí una oración:\n",
      "Gurgeh y Yay juegan juegos violentos.\n",
      "- Esta es la lista de palabras resultante:  ['gurgeh', 'y', 'yay', 'juegan', 'juegos', 'violentos']\n"
     ]
    },
    {
     "ename": "LookupError",
     "evalue": "\n**********************************************************************\n  Resource \u001b[93mcfg_oracionA_PabloCeballos.cfg\u001b[0m not found.\n  Please use the NLTK Downloader to obtain the resource:\n\n  \u001b[31m>>> import nltk\n  >>> nltk.download('cfg_oracionA_PabloCeballos.cfg')\n  \u001b[0m\n  For more information see: https://www.nltk.org/data.html\n\n  Attempted to load \u001b[93mgramaticas/cfg_oracionA_PabloCeballos.cfg\u001b[0m\n\n  Searched in:\n    - '/home/grmf/nltk_data'\n    - '/usr/nltk_data'\n    - '/usr/share/nltk_data'\n    - '/usr/lib/nltk_data'\n    - '/usr/share/nltk_data'\n    - '/usr/local/share/nltk_data'\n    - '/usr/lib/nltk_data'\n    - '/usr/local/lib/nltk_data'\n    - ''\n**********************************************************************\n",
     "output_type": "error",
     "traceback": [
      "\u001b[0;31m---------------------------------------------------------------------------\u001b[0m",
      "\u001b[0;31mLookupError\u001b[0m                               Traceback (most recent call last)",
      "Input \u001b[0;32mIn [2]\u001b[0m, in \u001b[0;36m<cell line: 5>\u001b[0;34m()\u001b[0m\n\u001b[1;32m      3\u001b[0m oracion0 \u001b[38;5;241m=\u001b[39m \u001b[38;5;28minput\u001b[39m()                                     \u001b[38;5;66;03m# Para que me abra un campo en el que escriba la oración\u001b[39;00m\n\u001b[1;32m      4\u001b[0m gramatica1 \u001b[38;5;241m=\u001b[39m \u001b[38;5;124m'\u001b[39m\u001b[38;5;124mgramaticas/cfg_oracionA_PabloCeballos.cfg\u001b[39m\u001b[38;5;124m'\u001b[39m                       \u001b[38;5;66;03m# Indicamos el path a nuestra gramatica\u001b[39;00m\n\u001b[0;32m----> 5\u001b[0m \u001b[43mrd_parser\u001b[49m\u001b[43m(\u001b[49m\u001b[43moracion0\u001b[49m\u001b[43m,\u001b[49m\u001b[43m \u001b[49m\u001b[43mgramatica1\u001b[49m\u001b[43m)\u001b[49m\n",
      "Input \u001b[0;32mIn [1]\u001b[0m, in \u001b[0;36mrd_parser\u001b[0;34m(oracion, gramatica)\u001b[0m\n\u001b[1;32m     12\u001b[0m lista_palabras \u001b[38;5;241m=\u001b[39m oracion\u001b[38;5;241m.\u001b[39msplit()              \u001b[38;5;66;03m# Dividimos la oración en palabras tomando como separador el espacio en blanco  con otra función nativa de las strings: split.\u001b[39;00m\n\u001b[1;32m     13\u001b[0m \u001b[38;5;28mprint\u001b[39m(\u001b[38;5;124m\"\u001b[39m\u001b[38;5;124m- Esta es la lista de palabras resultante: \u001b[39m\u001b[38;5;124m\"\u001b[39m, lista_palabras) \u001b[38;5;66;03m# Split nos devuelve una lista (ordenada) de strings.\u001b[39;00m\n\u001b[0;32m---> 15\u001b[0m gramatica \u001b[38;5;241m=\u001b[39m \u001b[43mnltk\u001b[49m\u001b[38;5;241;43m.\u001b[39;49m\u001b[43mdata\u001b[49m\u001b[38;5;241;43m.\u001b[39;49m\u001b[43mload\u001b[49m\u001b[43m(\u001b[49m\u001b[43mgramatica\u001b[49m\u001b[43m,\u001b[49m\u001b[43m \u001b[49m\u001b[43mcache\u001b[49m\u001b[38;5;241;43m=\u001b[39;49m\u001b[38;5;28;43;01mFalse\u001b[39;49;00m\u001b[43m)\u001b[49m           \u001b[38;5;66;03m# Usamos la función de la sub librería \"data\" que nos permite cargar una gramática para que pueda ser usada luego por el parser.    \u001b[39;00m\n\u001b[1;32m     16\u001b[0m rd_parser \u001b[38;5;241m=\u001b[39m nltk\u001b[38;5;241m.\u001b[39mRecursiveDescentParser(gramatica) \u001b[38;5;66;03m# Instanciamos la clase del parser que nos da NLTK pasandole un argumento obligatorio: la gramática.\u001b[39;00m\n\u001b[1;32m     17\u001b[0m \u001b[38;5;28;01mfor\u001b[39;00m arbol \u001b[38;5;129;01min\u001b[39;00m rd_parser\u001b[38;5;241m.\u001b[39mparse(lista_palabras):    \u001b[38;5;66;03m# Una vez que instanciamos la clase, podemos usar sus funciones mientras le pasemos los argumentos requeridos. En este caso, usamos la función \"parser\" a la que le pasaremos nuestra lista de palabras, y la función nos devolverá cada árbol posible en mi gramática para esa oración.\u001b[39;00m\n",
      "File \u001b[0;32m~/.local/lib/python3.8/site-packages/nltk/data.py:750\u001b[0m, in \u001b[0;36mload\u001b[0;34m(resource_url, format, cache, verbose, logic_parser, fstruct_reader, encoding)\u001b[0m\n\u001b[1;32m    747\u001b[0m     \u001b[38;5;28mprint\u001b[39m(\u001b[38;5;124mf\u001b[39m\u001b[38;5;124m\"\u001b[39m\u001b[38;5;124m<<Loading \u001b[39m\u001b[38;5;132;01m{\u001b[39;00mresource_url\u001b[38;5;132;01m}\u001b[39;00m\u001b[38;5;124m>>\u001b[39m\u001b[38;5;124m\"\u001b[39m)\n\u001b[1;32m    749\u001b[0m \u001b[38;5;66;03m# Load the resource.\u001b[39;00m\n\u001b[0;32m--> 750\u001b[0m opened_resource \u001b[38;5;241m=\u001b[39m \u001b[43m_open\u001b[49m\u001b[43m(\u001b[49m\u001b[43mresource_url\u001b[49m\u001b[43m)\u001b[49m\n\u001b[1;32m    752\u001b[0m \u001b[38;5;28;01mif\u001b[39;00m \u001b[38;5;28mformat\u001b[39m \u001b[38;5;241m==\u001b[39m \u001b[38;5;124m\"\u001b[39m\u001b[38;5;124mraw\u001b[39m\u001b[38;5;124m\"\u001b[39m:\n\u001b[1;32m    753\u001b[0m     resource_val \u001b[38;5;241m=\u001b[39m opened_resource\u001b[38;5;241m.\u001b[39mread()\n",
      "File \u001b[0;32m~/.local/lib/python3.8/site-packages/nltk/data.py:876\u001b[0m, in \u001b[0;36m_open\u001b[0;34m(resource_url)\u001b[0m\n\u001b[1;32m    873\u001b[0m protocol, path_ \u001b[38;5;241m=\u001b[39m split_resource_url(resource_url)\n\u001b[1;32m    875\u001b[0m \u001b[38;5;28;01mif\u001b[39;00m protocol \u001b[38;5;129;01mis\u001b[39;00m \u001b[38;5;28;01mNone\u001b[39;00m \u001b[38;5;129;01mor\u001b[39;00m protocol\u001b[38;5;241m.\u001b[39mlower() \u001b[38;5;241m==\u001b[39m \u001b[38;5;124m\"\u001b[39m\u001b[38;5;124mnltk\u001b[39m\u001b[38;5;124m\"\u001b[39m:\n\u001b[0;32m--> 876\u001b[0m     \u001b[38;5;28;01mreturn\u001b[39;00m \u001b[43mfind\u001b[49m\u001b[43m(\u001b[49m\u001b[43mpath_\u001b[49m\u001b[43m,\u001b[49m\u001b[43m \u001b[49m\u001b[43mpath\u001b[49m\u001b[43m \u001b[49m\u001b[38;5;241;43m+\u001b[39;49m\u001b[43m \u001b[49m\u001b[43m[\u001b[49m\u001b[38;5;124;43m\"\u001b[39;49m\u001b[38;5;124;43m\"\u001b[39;49m\u001b[43m]\u001b[49m\u001b[43m)\u001b[49m\u001b[38;5;241m.\u001b[39mopen()\n\u001b[1;32m    877\u001b[0m \u001b[38;5;28;01melif\u001b[39;00m protocol\u001b[38;5;241m.\u001b[39mlower() \u001b[38;5;241m==\u001b[39m \u001b[38;5;124m\"\u001b[39m\u001b[38;5;124mfile\u001b[39m\u001b[38;5;124m\"\u001b[39m:\n\u001b[1;32m    878\u001b[0m     \u001b[38;5;66;03m# urllib might not use mode='rb', so handle this one ourselves:\u001b[39;00m\n\u001b[1;32m    879\u001b[0m     \u001b[38;5;28;01mreturn\u001b[39;00m find(path_, [\u001b[38;5;124m\"\u001b[39m\u001b[38;5;124m\"\u001b[39m])\u001b[38;5;241m.\u001b[39mopen()\n",
      "File \u001b[0;32m~/.local/lib/python3.8/site-packages/nltk/data.py:583\u001b[0m, in \u001b[0;36mfind\u001b[0;34m(resource_name, paths)\u001b[0m\n\u001b[1;32m    581\u001b[0m sep \u001b[38;5;241m=\u001b[39m \u001b[38;5;124m\"\u001b[39m\u001b[38;5;124m*\u001b[39m\u001b[38;5;124m\"\u001b[39m \u001b[38;5;241m*\u001b[39m \u001b[38;5;241m70\u001b[39m\n\u001b[1;32m    582\u001b[0m resource_not_found \u001b[38;5;241m=\u001b[39m \u001b[38;5;124mf\u001b[39m\u001b[38;5;124m\"\u001b[39m\u001b[38;5;130;01m\\n\u001b[39;00m\u001b[38;5;132;01m{\u001b[39;00msep\u001b[38;5;132;01m}\u001b[39;00m\u001b[38;5;130;01m\\n\u001b[39;00m\u001b[38;5;132;01m{\u001b[39;00mmsg\u001b[38;5;132;01m}\u001b[39;00m\u001b[38;5;130;01m\\n\u001b[39;00m\u001b[38;5;132;01m{\u001b[39;00msep\u001b[38;5;132;01m}\u001b[39;00m\u001b[38;5;130;01m\\n\u001b[39;00m\u001b[38;5;124m\"\u001b[39m\n\u001b[0;32m--> 583\u001b[0m \u001b[38;5;28;01mraise\u001b[39;00m \u001b[38;5;167;01mLookupError\u001b[39;00m(resource_not_found)\n",
      "\u001b[0;31mLookupError\u001b[0m: \n**********************************************************************\n  Resource \u001b[93mcfg_oracionA_PabloCeballos.cfg\u001b[0m not found.\n  Please use the NLTK Downloader to obtain the resource:\n\n  \u001b[31m>>> import nltk\n  >>> nltk.download('cfg_oracionA_PabloCeballos.cfg')\n  \u001b[0m\n  For more information see: https://www.nltk.org/data.html\n\n  Attempted to load \u001b[93mgramaticas/cfg_oracionA_PabloCeballos.cfg\u001b[0m\n\n  Searched in:\n    - '/home/grmf/nltk_data'\n    - '/usr/nltk_data'\n    - '/usr/share/nltk_data'\n    - '/usr/lib/nltk_data'\n    - '/usr/share/nltk_data'\n    - '/usr/local/share/nltk_data'\n    - '/usr/lib/nltk_data'\n    - '/usr/local/lib/nltk_data'\n    - ''\n**********************************************************************\n"
     ]
    }
   ],
   "source": [
    "#Oración a: Gurgeh y Yay juegan juegos violentos.\n",
    "print('Escribí una oración:')                          # Para que me pida que escriba una oración\n",
    "oracion0 = input()                                     # Para que me abra un campo en el que escriba la oración\n",
    "gramatica1 = 'gramaticas/cfg_oracionA_PabloCeballos.cfg'                       # Indicamos el path a nuestra gramatica\n",
    "rd_parser(oracion0, gramatica1)                         # Llamamos a la función que creamos con los dos argumentos que establecimos como obligatorios."
   ]
  },
  {
   "cell_type": "markdown",
   "id": "7f2452ec",
   "metadata": {},
   "source": [
    "# Nota\n",
    "Una interpretación posible tomaría a “violentos” como modificador del SNCoord pero al ser un constituyente discontinuo esta estructura no puede ser modelada por una CFG"
   ]
  }
 ],
 "metadata": {
  "kernelspec": {
   "display_name": "Python 3 (ipykernel)",
   "language": "python",
   "name": "python3"
  },
  "language_info": {
   "codemirror_mode": {
    "name": "ipython",
    "version": 3
   },
   "file_extension": ".py",
   "mimetype": "text/x-python",
   "name": "python",
   "nbconvert_exporter": "python",
   "pygments_lexer": "ipython3",
   "version": "3.8.10"
  }
 },
 "nbformat": 4,
 "nbformat_minor": 5
}
