{
 "cells": [
  {
   "cell_type": "markdown",
   "metadata": {},
   "source": [
    "# Gramáticas categoriales"
   ]
  },
  {
   "cell_type": "markdown",
   "metadata": {},
   "source": [
    "## Requerimientos"
   ]
  },
  {
   "cell_type": "code",
   "execution_count": null,
   "metadata": {},
   "outputs": [],
   "source": [
    "import nltk \n",
    "import re \n",
    "from nltk.ccg import chart, lexicon"
   ]
  },
  {
   "cell_type": "markdown",
   "metadata": {},
   "source": [
    "Las gramáticas categoriales están conformadas principalmente por un conjunto reducido de reglas y un léxico sumamente rico.\n",
    "Las reglas que utiliza OpenCCG, que es el parser categorial que vamos a ver son las siguientes:"
   ]
  },
  {
   "cell_type": "markdown",
   "metadata": {},
   "source": [
    "![reglas categoriales](reglascategorialesopenccg.png)"
   ]
  },
  {
   "cell_type": "markdown",
   "metadata": {},
   "source": [
    "Construir una gramática categorial consiste principalmente en elaborar un léxico lo suficientemente rico, ya que las gramáticas categoriales son fuertemente lexicalistas. En ellas, la categoría a la que pertenece cada entrada léxica codifica sus posibilidades combinatorias."
   ]
  },
  {
   "cell_type": "markdown",
   "metadata": {},
   "source": [
    "## Combinatory Categorial Grammar"
   ]
  },
  {
   "cell_type": "code",
   "execution_count": null,
   "metadata": {},
   "outputs": [],
   "source": [
    "#Combinatory Categorial Grammar\n",
    "\n",
    "def combinatory_parser(sentence, grammar):   \n",
    "    sentence = sentence.lower()                                 # convierte a minúscula\n",
    "    if sentence.endswith('.'):                                  # si la oración termina con un punto\n",
    "        sent = re.sub('\\.',' ',sentence)                        # se lo quita\n",
    "    else:                                                       # si no\n",
    "        sent = sentence                                         # la toma como está\n",
    "    sent = sent.split()                                         # divide la oración en palabras\n",
    "    archivo = open(grammar, 'r')                                # abre el archivo que se especifica en grammar\n",
    "    codigogram = archivo.read()                                 # lee el archivo\n",
    "    lex = lexicon.fromstring(codigogram)                        # carga el léxico alojado en el archivo\n",
    "    print(lex)                                                  # lo imprime\n",
    "    parser = chart.CCGChartParser(lex, chart.DefaultRuleSet)    # parsea\n",
    "    archivo.close()                                             # cierra el archivo\n",
    "    for parse in parser.parse(sent):  # doctest: +SKIP          # imprime los parseos disponibles\n",
    "         chart.printCCGDerivation(parse)\n",
    "         #break       \n"
   ]
  },
  {
   "cell_type": "markdown",
   "metadata": {},
   "source": [
    "### Una gramática con categorías primitivas S y N"
   ]
  },
  {
   "cell_type": "code",
   "execution_count": null,
   "metadata": {},
   "outputs": [],
   "source": [
    "grammar = 'gramaticas/CG1.txt'\n",
    "print('Escribí una oración')\n",
    "oracion5 = input()\n",
    "combinatory_parser(oracion5, grammar)\n",
    "\n",
    "# él/ella/julia/maca/fer/pablo fuma\n",
    "# él/ella/julia/maca/pablo/fer conoce un regalo\n",
    "# él/ella/julia/maca/pablo/fer conoce a él/ella/julia/maca/pablo/fer\n",
    "# él/ella/julia/maca/pablo/fer mira un regalo/globo\n",
    "# él/ella/julia/maca/pablo/fer envió/entregó un regalo/globo a él/ella/julia/maca/pablo/fer"
   ]
  },
  {
   "cell_type": "markdown",
   "metadata": {},
   "source": [
    "### Una gramática con categorías primitivas S y N y categorías derivadas"
   ]
  },
  {
   "cell_type": "code",
   "execution_count": null,
   "metadata": {},
   "outputs": [],
   "source": [
    "grammar = 'gramaticas/CG2.txt'\n",
    "print('Escribí una oración')\n",
    "oracion5 = input()\n",
    "combinatory_parser(oracion5, grammar)\n",
    "\n",
    "# él/ella/julia/maca/fer/pablo fuma\n",
    "# él/ella/julia/maca/pablo/fer conoce un regalo\n",
    "# él/ella/julia/maca/pablo/fer conoce a él/ella/julia/maca/pablo/fer\n",
    "# él/ella/julia/maca/pablo/fer mira un regalo/globo\n",
    "# él/ella/julia/maca/pablo/fer envió/entregó un regalo/globo a él/ella/julia/maca/pablo/fer"
   ]
  },
  {
   "cell_type": "code",
   "execution_count": null,
   "metadata": {},
   "outputs": [],
   "source": [
    "grammar = 'gramaticas/CG3.txt'\n",
    "print('Escribí una oración')\n",
    "oracion5 = input()\n",
    "combinatory_parser(oracion5, grammar)"
   ]
  },
  {
   "cell_type": "markdown",
   "metadata": {},
   "source": [
    "### Gramáticas con más categorías primitivas\n",
    "\n",
    "Si bien ya en los primeros trabajos se postulaba la necesidad de agregar más categorías, el hecho de que cada categoría que se agregara al sistema tuviera que estar debidamente justificada hizo que en los primeros sistemas solo se aceptaran s y n. Posteriormente se agregó una distinción entre nombres propios y nombres comunes y una categoría para preposiciones."
   ]
  },
  {
   "cell_type": "code",
   "execution_count": null,
   "metadata": {},
   "outputs": [],
   "source": [
    "grammar = 'gramaticas/CG4.txt'\n",
    "print('Escribí una oración')\n",
    "oracion5 = input()\n",
    "combinatory_parser(oracion5, grammar)\n",
    "\n",
    "# él/ella/julia/maca/fer/pablo fuma\n",
    "# él/ella/julia/maca/pablo/fer conoce un regalo\n",
    "# él/ella/julia/maca/pablo/fer conoce a él/ella/julia/maca/pablo/fer\n",
    "# él/ella/julia/maca/pablo/fer mira un regalo/globo\n",
    "# él/ella/julia/maca/pablo/fer envió/entregó un regalo/globo a él/ella/julia/maca/pablo/fer"
   ]
  },
  {
   "cell_type": "markdown",
   "metadata": {},
   "source": [
    "{% include additional_content.html %}\n",
    "\n",
    "{% include copybutton.html %}"
   ]
  }
 ],
 "metadata": {
  "kernelspec": {
   "display_name": "Python 3 (ipykernel)",
   "language": "python",
   "name": "python3"
  },
  "language_info": {
   "codemirror_mode": {
    "name": "ipython",
    "version": 3
   },
   "file_extension": ".py",
   "mimetype": "text/x-python",
   "name": "python",
   "nbconvert_exporter": "python",
   "pygments_lexer": "ipython3",
   "version": "3.8.10"
  }
 },
 "nbformat": 4,
 "nbformat_minor": 2
}
